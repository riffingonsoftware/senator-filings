{
 "cells": [
  {
   "cell_type": "markdown",
   "metadata": {},
   "source": [
    "# Senator Filings Analysis"
   ]
  },
  {
   "cell_type": "markdown",
   "metadata": {},
   "source": [
    "***"
   ]
  },
  {
   "cell_type": "markdown",
   "metadata": {},
   "source": [
    "## Imports"
   ]
  },
  {
   "cell_type": "code",
   "metadata": {
    "collapsed": false,
    "ExecuteTime": {
     "end_time": "2024-04-27T19:52:33.803871Z",
     "start_time": "2024-04-27T19:52:29.860530Z"
    }
   },
   "source": [
    "from collections import defaultdict\n",
    "import datetime as dt\n",
    "from functools import lru_cache\n",
    "import json\n",
    "import os\n",
    "import pickle\n",
    "\n",
    "import matplotlib.pyplot as plt\n",
    "import numpy as np\n",
    "import pandas as pd\n",
    "import yfinance as yf"
   ],
   "outputs": [],
   "execution_count": 1
  },
  {
   "cell_type": "markdown",
   "metadata": {},
   "source": [
    "## Introduction\n",
    "\n",
    "In this notebook, we explore stock orders that were publicly filed by U.S. senators. The filings are scraped from https://efdsearch.senate.gov/search/. We calculate the returns of each senator by mimicking their buys and sells."
   ]
  },
  {
   "cell_type": "markdown",
   "metadata": {},
   "source": [
    "***"
   ]
  },
  {
   "cell_type": "markdown",
   "metadata": {},
   "source": [
    "## Loading data\n",
    "\n",
    "The `senators.pickle` file is scraped using the script in the root of the repository."
   ]
  },
  {
   "cell_type": "code",
   "metadata": {
    "collapsed": true,
    "ExecuteTime": {
     "end_time": "2024-04-27T19:52:33.959262Z",
     "start_time": "2024-04-27T19:52:33.806567Z"
    }
   },
   "source": [
    "with open('senators.pickle', 'rb') as f:\n",
    "    raw_senators_tx = pickle.load(f)"
   ],
   "outputs": [],
   "execution_count": 2
  },
  {
   "cell_type": "markdown",
   "metadata": {},
   "source": [
    "## Data cleaning"
   ]
  },
  {
   "cell_type": "markdown",
   "metadata": {},
   "source": [
    "### Filling in missing tickers"
   ]
  },
  {
   "cell_type": "markdown",
   "metadata": {},
   "source": [
    "In this section, we fill in as many of the missing ticker symbols as we can."
   ]
  },
  {
   "cell_type": "code",
   "metadata": {
    "collapsed": false,
    "ExecuteTime": {
     "end_time": "2024-04-27T19:52:33.995142Z",
     "start_time": "2024-04-27T19:52:33.973684Z"
    }
   },
   "source": [
    "def tokenize(asset_name):\n",
    "    \"\"\" Convert an asset name into useful tokens. \"\"\"\n",
    "    token_string = asset_name\\\n",
    "        .replace('(', '')\\\n",
    "        .replace(')', '')\\\n",
    "        .replace('-', ' ')\\\n",
    "        .replace('.', '')\n",
    "    return token_string.split(' ')\n",
    "\n",
    "def token_is_ticker(token, token_blacklist):\n",
    "    return len(token) <= 4 and token.upper() not in token_blacklist\n",
    "\n",
    "# These generic words do not help us determine the ticker\n",
    "with open('blacklist.json', 'r') as f:\n",
    "    blacklist = set(json.load(f))\n",
    "\n",
    "missing_tickers = set(raw_senators_tx[\n",
    "    (raw_senators_tx['ticker'] == '--')\n",
    "    | (raw_senators_tx['ticker'] == '')\n",
    "]['asset_name'])\n",
    "\n",
    "ticker_map = {}\n",
    "unmapped_tickers = set()\n",
    "for m in missing_tickers:\n",
    "    tokens = tokenize(m)\n",
    "    if token_is_ticker(tokens[0], blacklist):\n",
    "        ticker_map[m] = tokens[0].upper()\n",
    "    elif token_is_ticker(tokens[-1], blacklist):\n",
    "        ticker_map[m] = tokens[-1].upper()\n",
    "    else:\n",
    "        unmapped_tickers.add(m)"
   ],
   "outputs": [],
   "execution_count": 3
  },
  {
   "cell_type": "markdown",
   "metadata": {},
   "source": [
    "As a second pass, we assign tickers to asset names that have any of the specified keywords."
   ]
  },
  {
   "cell_type": "code",
   "metadata": {
    "collapsed": false,
    "ExecuteTime": {
     "end_time": "2024-04-27T19:52:34.044045Z",
     "start_time": "2024-04-27T19:52:33.996926Z"
    }
   },
   "source": [
    "phrase_to_ticker = {\n",
    "    'FOX': 'FOX',\n",
    "    'AMAZON': 'AMZN',\n",
    "    'AARON': 'AAN',\n",
    "    'ALTRIA': 'MO',\n",
    "    'APPLE': 'AAPL',\n",
    "    'CHEVRON': 'CVX',\n",
    "    'DUPONT': 'DD',\n",
    "    'ALPHABET': 'GOOGL',\n",
    "    'GOOG': 'GOOGL',\n",
    "    'GENERAL ELECTRIC': 'GE',\n",
    "    'JOHNSON': 'JNJ',\n",
    "    'NEWELL': 'NWL',\n",
    "    'OWENS': 'OMI',\n",
    "    'PFIZER': 'PFE',\n",
    "    'TYSON': 'TSN',\n",
    "    'UNDER ARMOUR': 'UAA',\n",
    "    'VERIZON': 'VZ',\n",
    "    'WALT': 'DIS'\n",
    "}\n",
    "\n",
    "for m in unmapped_tickers:\n",
    "    for t in phrase_to_ticker:\n",
    "        if t in m.upper():\n",
    "            ticker_map[m] = phrase_to_ticker[t]\n",
    "\n",
    "tx_with_tickers = raw_senators_tx.copy()\n",
    "for a, t in ticker_map.items():\n",
    "    tx_with_tickers.loc[tx_with_tickers['asset_name'] == a, 'ticker'] = t"
   ],
   "outputs": [],
   "execution_count": 4
  },
  {
   "cell_type": "markdown",
   "metadata": {},
   "source": [
    "### Filtering rows and columns"
   ]
  },
  {
   "cell_type": "markdown",
   "metadata": {},
   "source": [
    "We filter out useless rows and missing symbols, and then add some useful columns for the final dataset."
   ]
  },
  {
   "cell_type": "code",
   "metadata": {
    "collapsed": true,
    "ExecuteTime": {
     "end_time": "2024-04-27T19:52:34.101230Z",
     "start_time": "2024-04-27T19:52:34.053883Z"
    }
   },
   "source": [
    "filtered_tx = tx_with_tickers[tx_with_tickers['ticker'] != '--']\n",
    "filtered_tx = filtered_tx.assign(\n",
    "    ticker=filtered_tx['ticker'].map(\n",
    "        lambda s: s.replace('--', '').replace('\\n', '')))\n",
    "\n",
    "filtered_tx = filtered_tx[filtered_tx['order_type'] != 'Exchange']"
   ],
   "outputs": [],
   "execution_count": 5
  },
  {
   "cell_type": "code",
   "metadata": {
    "collapsed": false,
    "ExecuteTime": {
     "end_time": "2024-04-27T19:52:34.532980Z",
     "start_time": "2024-04-27T19:52:34.111425Z"
    }
   },
   "source": [
    "def parse_tx_amount(amt):\n",
    "    \"\"\" Get the lower bound for the transaction amount. \"\"\"\n",
    "    return int(amt.replace('Over $50,000,000', '50000000')\n",
    "               .split(' - ')[0]\n",
    "               .replace(',', '')\n",
    "               .replace('$', ''))\n",
    "\n",
    "senators_tx = filtered_tx.assign(\n",
    "    tx_estimate=filtered_tx['tx_amount'].map(parse_tx_amount))\n",
    "senators_tx = senators_tx.assign(\n",
    "    full_name=senators_tx['first_name']\n",
    "        .str\n",
    "        .cat(senators_tx['last_name'], sep=' ')\n",
    ")\n",
    "useful_cols = [\n",
    "    'file_date',\n",
    "    'tx_date',\n",
    "    'full_name',\n",
    "    'order_type',\n",
    "    'ticker',\n",
    "    'tx_estimate'\n",
    "]\n",
    "senators_tx = senators_tx[useful_cols]\n",
    "senators_tx = senators_tx.assign(\n",
    "    tx_date=senators_tx['tx_date'].map(\n",
    "        lambda v: dt.datetime.strptime(v.strip(), '%m/%d/%Y')))\n",
    "senators_tx = senators_tx.assign(\n",
    "    file_date=senators_tx['file_date'].map(\n",
    "        lambda v: dt.datetime.strptime(v.strip(), '%m/%d/%Y')))\n",
    "senators_tx"
   ],
   "outputs": [
    {
     "data": {
      "text/plain": [
       "       file_date    tx_date           full_name      order_type ticker  \\\n",
       "0     2024-04-24 2024-03-22  Sheldon Whitehouse     Sale (Full)     UL   \n",
       "1     2024-04-24 2024-03-13  Sheldon Whitehouse     Sale (Full)  CMCSA   \n",
       "2     2024-04-24 2024-04-15       Rafael E Cruz  Sale (Partial)     GS   \n",
       "3     2024-04-19 2024-04-04          Tina Smith  Sale (Partial)   PODD   \n",
       "4     2024-04-19 2024-04-04          Tina Smith  Sale (Partial)    NEE   \n",
       "...          ...        ...                 ...             ...    ...   \n",
       "16457 2014-01-31 2014-01-29     Susan M Collins  Sale (Partial)      C   \n",
       "16458 2014-01-31 2014-01-28     Susan M Collins  Sale (Partial)   EBAY   \n",
       "16459 2014-01-31 2014-01-24     Susan M Collins        Purchase     FB   \n",
       "16460 2014-01-31 2014-01-24     Susan M Collins        Purchase    CRM   \n",
       "16461 2014-01-31 2014-01-24     Susan M Collins  Sale (Partial)     GE   \n",
       "\n",
       "       tx_estimate  \n",
       "0             1001  \n",
       "1            15001  \n",
       "2           250001  \n",
       "3            50001  \n",
       "4           100001  \n",
       "...            ...  \n",
       "16457         1001  \n",
       "16458         1001  \n",
       "16459         1001  \n",
       "16460         1001  \n",
       "16461         1001  \n",
       "\n",
       "[16334 rows x 6 columns]"
      ],
      "text/html": [
       "<div>\n",
       "<style scoped>\n",
       "    .dataframe tbody tr th:only-of-type {\n",
       "        vertical-align: middle;\n",
       "    }\n",
       "\n",
       "    .dataframe tbody tr th {\n",
       "        vertical-align: top;\n",
       "    }\n",
       "\n",
       "    .dataframe thead th {\n",
       "        text-align: right;\n",
       "    }\n",
       "</style>\n",
       "<table border=\"1\" class=\"dataframe\">\n",
       "  <thead>\n",
       "    <tr style=\"text-align: right;\">\n",
       "      <th></th>\n",
       "      <th>file_date</th>\n",
       "      <th>tx_date</th>\n",
       "      <th>full_name</th>\n",
       "      <th>order_type</th>\n",
       "      <th>ticker</th>\n",
       "      <th>tx_estimate</th>\n",
       "    </tr>\n",
       "  </thead>\n",
       "  <tbody>\n",
       "    <tr>\n",
       "      <th>0</th>\n",
       "      <td>2024-04-24</td>\n",
       "      <td>2024-03-22</td>\n",
       "      <td>Sheldon Whitehouse</td>\n",
       "      <td>Sale (Full)</td>\n",
       "      <td>UL</td>\n",
       "      <td>1001</td>\n",
       "    </tr>\n",
       "    <tr>\n",
       "      <th>1</th>\n",
       "      <td>2024-04-24</td>\n",
       "      <td>2024-03-13</td>\n",
       "      <td>Sheldon Whitehouse</td>\n",
       "      <td>Sale (Full)</td>\n",
       "      <td>CMCSA</td>\n",
       "      <td>15001</td>\n",
       "    </tr>\n",
       "    <tr>\n",
       "      <th>2</th>\n",
       "      <td>2024-04-24</td>\n",
       "      <td>2024-04-15</td>\n",
       "      <td>Rafael E Cruz</td>\n",
       "      <td>Sale (Partial)</td>\n",
       "      <td>GS</td>\n",
       "      <td>250001</td>\n",
       "    </tr>\n",
       "    <tr>\n",
       "      <th>3</th>\n",
       "      <td>2024-04-19</td>\n",
       "      <td>2024-04-04</td>\n",
       "      <td>Tina Smith</td>\n",
       "      <td>Sale (Partial)</td>\n",
       "      <td>PODD</td>\n",
       "      <td>50001</td>\n",
       "    </tr>\n",
       "    <tr>\n",
       "      <th>4</th>\n",
       "      <td>2024-04-19</td>\n",
       "      <td>2024-04-04</td>\n",
       "      <td>Tina Smith</td>\n",
       "      <td>Sale (Partial)</td>\n",
       "      <td>NEE</td>\n",
       "      <td>100001</td>\n",
       "    </tr>\n",
       "    <tr>\n",
       "      <th>...</th>\n",
       "      <td>...</td>\n",
       "      <td>...</td>\n",
       "      <td>...</td>\n",
       "      <td>...</td>\n",
       "      <td>...</td>\n",
       "      <td>...</td>\n",
       "    </tr>\n",
       "    <tr>\n",
       "      <th>16457</th>\n",
       "      <td>2014-01-31</td>\n",
       "      <td>2014-01-29</td>\n",
       "      <td>Susan M Collins</td>\n",
       "      <td>Sale (Partial)</td>\n",
       "      <td>C</td>\n",
       "      <td>1001</td>\n",
       "    </tr>\n",
       "    <tr>\n",
       "      <th>16458</th>\n",
       "      <td>2014-01-31</td>\n",
       "      <td>2014-01-28</td>\n",
       "      <td>Susan M Collins</td>\n",
       "      <td>Sale (Partial)</td>\n",
       "      <td>EBAY</td>\n",
       "      <td>1001</td>\n",
       "    </tr>\n",
       "    <tr>\n",
       "      <th>16459</th>\n",
       "      <td>2014-01-31</td>\n",
       "      <td>2014-01-24</td>\n",
       "      <td>Susan M Collins</td>\n",
       "      <td>Purchase</td>\n",
       "      <td>FB</td>\n",
       "      <td>1001</td>\n",
       "    </tr>\n",
       "    <tr>\n",
       "      <th>16460</th>\n",
       "      <td>2014-01-31</td>\n",
       "      <td>2014-01-24</td>\n",
       "      <td>Susan M Collins</td>\n",
       "      <td>Purchase</td>\n",
       "      <td>CRM</td>\n",
       "      <td>1001</td>\n",
       "    </tr>\n",
       "    <tr>\n",
       "      <th>16461</th>\n",
       "      <td>2014-01-31</td>\n",
       "      <td>2014-01-24</td>\n",
       "      <td>Susan M Collins</td>\n",
       "      <td>Sale (Partial)</td>\n",
       "      <td>GE</td>\n",
       "      <td>1001</td>\n",
       "    </tr>\n",
       "  </tbody>\n",
       "</table>\n",
       "<p>16334 rows × 6 columns</p>\n",
       "</div>"
      ]
     },
     "execution_count": 6,
     "metadata": {},
     "output_type": "execute_result"
    }
   ],
   "execution_count": 6
  },
  {
   "cell_type": "markdown",
   "metadata": {},
   "source": [
    "## Returns calculation"
   ]
  },
  {
   "cell_type": "markdown",
   "metadata": {},
   "source": [
    "These cells help us download the market data for the specified tickers. We store the market data in files so we don't need to repeatedly download the same information."
   ]
  },
  {
   "cell_type": "code",
   "metadata": {
    "collapsed": true,
    "ExecuteTime": {
     "end_time": "2024-04-27T19:52:34.598330Z",
     "start_time": "2024-04-27T19:52:34.542718Z"
    }
   },
   "source": [
    "def download_for_ticker(ticker, check_cache=True):\n",
    "    \"\"\" Download a file of stock prices for this ticker to disk. \"\"\"\n",
    "    if check_cache and os.path.exists('stocks/{0}.pickle'.format(ticker)):\n",
    "        return\n",
    "    d = yf.Ticker(ticker)\n",
    "    with open('stocks/{0}.pickle'.format(ticker), 'wb') as f:\n",
    "        pickle.dump({\n",
    "            'price': d.history(period='max').reset_index()\n",
    "        }, f)\n",
    "\n",
    "def load_for_ticker(ticker):\n",
    "    \"\"\" Load the file of stock prices for this ticker. \"\"\"\n",
    "    with open('stocks/{0}.pickle'.format(ticker), 'rb') as f:\n",
    "        dump = pickle.load(f)\n",
    "    raw = dump['price']\n",
    "    return raw[['Date', 'Close']]\\\n",
    "        .rename(columns={'Date': 'date', 'Close': 'price'})\n",
    "\n",
    "def _price_for_date(df, date):\n",
    "    \"\"\" Helper function for `ticker_at_date`. \"\"\"\n",
    "    df = df[df['date'] >= date].sort_values(by='date')\n",
    "    return df['price'].iloc[0]\n",
    "\n",
    "@lru_cache(maxsize=128)\n",
    "def ticker_at_date(ticker, date):\n",
    "    \"\"\"\n",
    "    Price of a ticker at a given date. Raise an IndexError if there is no\n",
    "    such price.\n",
    "    \"\"\"\n",
    "    try:\n",
    "        data = load_for_ticker(ticker)\n",
    "        # Sell at the next opportunity possible\n",
    "        return _price_for_date(data, date)\n",
    "    except Exception:\n",
    "        # If any exception occurs, refresh the cache\n",
    "        download_for_ticker(ticker, check_cache=False)\n",
    "        data = load_for_ticker(ticker)\n",
    "        return _price_for_date(data, date)"
   ],
   "outputs": [],
   "execution_count": 7
  },
  {
   "cell_type": "code",
   "metadata": {
    "collapsed": false,
    "ExecuteTime": {
     "end_time": "2024-04-27T20:05:20.474046Z",
     "start_time": "2024-04-27T19:52:34.610059Z"
    }
   },
   "source": [
    "try:\n",
    "    os.mkdir('stocks')\n",
    "except FileExistsError:\n",
    "    pass\n",
    "\n",
    "all_tickers = set(senators_tx['ticker'])\n",
    "for i, t in enumerate(all_tickers):\n",
    "    if i % 100 == 0:\n",
    "        print('Working on ticker {0}'.format(i))\n",
    "    try:\n",
    "        download_for_ticker(t)\n",
    "    except Exception as e:\n",
    "        print('Ticker {0} failed with exception: {1}'.format(t, e))"
   ],
   "outputs": [
    {
     "name": "stdout",
     "output_type": "stream",
     "text": [
      "Working on ticker 0\n"
     ]
    },
    {
     "name": "stderr",
     "output_type": "stream",
     "text": [
      "OAK: No timezone found, symbol may be delisted\n",
      "CELP: No timezone found, symbol may be delisted\n",
      "XL: No timezone found, symbol may be delisted\n",
      "ZNGA: No timezone found, symbol may be delisted\n",
      "KRFT: No price data found, symbol may be delisted (1d 1925-05-21 -> 2024-04-27)\n",
      "Q: No price data found, symbol may be delisted (1d 1925-05-21 -> 2024-04-27)\n",
      "AGU: No price data found, symbol may be delisted (1d 1925-05-21 -> 2024-04-27)\n",
      "HUB-B: No price data found, symbol may be delisted (1d 1925-05-21 -> 2024-04-27)\n",
      "FEYE: No timezone found, symbol may be delisted\n",
      "MDCA: No timezone found, symbol may be delisted\n",
      "DISCA: No timezone found, symbol may be delisted\n",
      "DGNR: No timezone found, symbol may be delisted\n",
      "ECOM: No timezone found, symbol may be delisted\n",
      "CLNY: No timezone found, symbol may be delisted\n",
      "ITR: No price data found, symbol may be delisted (1d 1925-05-21 -> 2024-04-27)\n",
      "LDR: No price data found, symbol may be delisted (1d 1925-05-21 -> 2024-04-27)\n",
      "CONE: No timezone found, symbol may be delisted\n",
      "IIN: No timezone found, symbol may be delisted\n",
      "RNWK: No timezone found, symbol may be delisted\n",
      "WTT: No timezone found, symbol may be delisted\n",
      "CVET: No timezone found, symbol may be delisted\n",
      "CELG: No timezone found, symbol may be delisted\n",
      "NID: No timezone found, symbol may be delisted\n",
      "RDSA: No timezone found, symbol may be delisted\n",
      "IBKC: No timezone found, symbol may be delisted\n",
      "FRC: No timezone found, symbol may be delisted\n",
      "SI: No timezone found, symbol may be delisted\n",
      "TYPE: No timezone found, symbol may be delisted\n",
      "WIN: No timezone found, symbol may be delisted\n"
     ]
    },
    {
     "name": "stdout",
     "output_type": "stream",
     "text": [
      "Working on ticker 100\n"
     ]
    },
    {
     "name": "stderr",
     "output_type": "stream",
     "text": [
      "MCC: No timezone found, symbol may be delisted\n",
      "KSU: No timezone found, symbol may be delisted\n",
      "BUNT-RP: No timezone found, symbol may be delisted\n",
      "JCOM: No timezone found, symbol may be delisted\n",
      "HCN: No price data found, symbol may be delisted (1d 1925-05-21 -> 2024-04-27)\n",
      "ANTM: No timezone found, symbol may be delisted\n",
      "CNR: No timezone found, symbol may be delisted\n",
      "BEAV: No price data found, symbol may be delisted (1d 1925-05-21 -> 2024-04-27)\n",
      "BBT: No timezone found, symbol may be delisted\n",
      "TCP: No timezone found, symbol may be delisted\n",
      "WFT: No timezone found, symbol may be delisted\n",
      "KMP: No price data found, symbol may be delisted (1d 1925-05-21 -> 2024-04-27)\n",
      "IACI: No price data found, symbol may be delisted (1d 1925-05-21 -> 2024-04-27)\n",
      "OAS: No timezone found, symbol may be delisted\n",
      "FDC: No timezone found, symbol may be delisted\n"
     ]
    },
    {
     "name": "stdout",
     "output_type": "stream",
     "text": [
      "Working on ticker 200\n"
     ]
    },
    {
     "name": "stderr",
     "output_type": "stream",
     "text": [
      "                                                                                                                                                                                                        : No timezone found, symbol may be delisted\n",
      "NEE-PC: No timezone found, symbol may be delisted\n",
      "COUP: No timezone found, symbol may be delisted\n",
      "XON: No timezone found, symbol may be delisted\n",
      "BHGE: No timezone found, symbol may be delisted\n",
      "QLIK: No price data found, symbol may be delisted (1d 1925-05-21 -> 2024-04-27)\n",
      "DPS: No price data found, symbol may be delisted (1d 1925-05-21 -> 2024-04-27)\n",
      "FLIR: No timezone found, symbol may be delisted\n",
      "MRWSY: No timezone found, symbol may be delisted\n",
      "PLKI: No price data found, symbol may be delisted (1d 1925-05-21 -> 2024-04-27)\n",
      "APC: No timezone found, symbol may be delisted\n",
      "PKI: No timezone found, symbol may be delisted\n",
      "MXIM: No timezone found, symbol may be delisted\n",
      "CVC: No price data found, symbol may be delisted (1d 1925-05-21 -> 2024-04-27)\n",
      "MIK: No timezone found, symbol may be delisted\n",
      "PLT: No timezone found, symbol may be delisted\n",
      "WFM: No price data found, symbol may be delisted (1d 1925-05-21 -> 2024-04-27)\n",
      "ZAYO: No timezone found, symbol may be delisted\n",
      "BKEPP: No timezone found, symbol may be delisted\n",
      "TLLP: No price data found, symbol may be delisted (1d 1925-05-21 -> 2024-04-27)\n"
     ]
    },
    {
     "name": "stdout",
     "output_type": "stream",
     "text": [
      "Working on ticker 300\n"
     ]
    },
    {
     "name": "stderr",
     "output_type": "stream",
     "text": [
      "MHFI: No price data found, symbol may be delisted (1d 1925-05-21 -> 2024-04-27)\n",
      "TWTR: No timezone found, symbol may be delisted\n",
      "DISCK: No timezone found, symbol may be delisted\n",
      "YHOO: No timezone found, symbol may be delisted\n",
      "TOT: No timezone found, symbol may be delisted\n",
      "WNR: No price data found, symbol may be delisted (1d 1925-05-21 -> 2024-04-27)\n",
      "HTS: No price data found, symbol may be delisted (1d 1925-05-21 -> 2024-04-27)\n",
      "AXE: No timezone found, symbol may be delisted\n",
      "DPM: No timezone found, symbol may be delisted\n",
      "CERN: No timezone found, symbol may be delisted\n",
      "HRC: No timezone found, symbol may be delisted\n",
      "MAXR: No timezone found, symbol may be delisted\n",
      "UN: No timezone found, symbol may be delisted\n",
      "AKRX: No timezone found, symbol may be delisted\n",
      "NBL: No timezone found, symbol may be delisted\n",
      "CEA: No timezone found, symbol may be delisted\n"
     ]
    },
    {
     "name": "stdout",
     "output_type": "stream",
     "text": [
      "Working on ticker 400\n"
     ]
    },
    {
     "name": "stderr",
     "output_type": "stream",
     "text": [
      "GMXRQ: No timezone found, symbol may be delisted\n",
      "CFN: No price data found, symbol may be delisted (1d 1925-05-21 -> 2024-04-27)\n",
      "ABDC: No timezone found, symbol may be delisted\n",
      "SYRG: No price data found, symbol may be delisted (1d 1925-05-21 -> 2024-04-27)\n",
      "NCR: No timezone found, symbol may be delisted\n",
      "CTAA: No timezone found, symbol may be delisted\n",
      "LLTC: No price data found, symbol may be delisted (1d 1925-05-21 -> 2024-04-27)\n",
      "LO: No price data found, symbol may be delisted (1d 1925-05-21 -> 2024-04-27)\n",
      "CTXS: No timezone found, symbol may be delisted\n",
      "WAGE: No timezone found, symbol may be delisted\n",
      "TLSYY: No timezone found, symbol may be delisted\n",
      "Y: No timezone found, symbol may be delisted\n",
      "MDP: No timezone found, symbol may be delisted\n",
      "CHL: No timezone found, symbol may be delisted\n"
     ]
    },
    {
     "name": "stdout",
     "output_type": "stream",
     "text": [
      "Working on ticker 500\n"
     ]
    },
    {
     "name": "stderr",
     "output_type": "stream",
     "text": [
      "BLL: No timezone found, symbol may be delisted\n",
      "CSII: No timezone found, symbol may be delisted\n",
      "GRUB: No timezone found, symbol may be delisted\n",
      "FTSI: No timezone found, symbol may be delisted\n",
      "TSO: No price data found, symbol may be delisted (1d 1925-05-21 -> 2024-04-27)\n",
      "ISIS: No price data found, symbol may be delisted (1d 1925-05-21 -> 2024-04-27)\n",
      "IPHI: No timezone found, symbol may be delisted\n",
      "ICON: No timezone found, symbol may be delisted\n",
      "UNVR: No timezone found, symbol may be delisted\n",
      "VIAB: No timezone found, symbol may be delisted\n",
      "AMSG: No price data found, symbol may be delisted (1d 1925-05-21 -> 2024-04-27)\n",
      "HYH: No price data found, symbol may be delisted (1d 1925-05-21 -> 2024-04-27)\n",
      "ANDX: No timezone found, symbol may be delisted\n",
      "RDSA.AS: No timezone found, symbol may be delisted\n",
      "CTCT: No price data found, symbol may be delisted (1d 1925-05-21 -> 2024-04-27)\n",
      "XLNX: No timezone found, symbol may be delisted\n"
     ]
    },
    {
     "name": "stdout",
     "output_type": "stream",
     "text": [
      "Working on ticker 600\n"
     ]
    },
    {
     "name": "stderr",
     "output_type": "stream",
     "text": [
      "UTX: No timezone found, symbol may be delisted\n",
      "MSTY.PA: No timezone found, symbol may be delisted\n",
      "FLY: No timezone found, symbol may be delisted\n",
      "RAI: No price data found, symbol may be delisted (1d 1925-05-21 -> 2024-04-27)\n",
      "HRS: No timezone found, symbol may be delisted\n",
      "CMCSK: No price data found, symbol may be delisted (1d 1925-05-21 -> 2024-04-27)\n",
      "PACW: No timezone found, symbol may be delisted\n",
      "NUAN: No timezone found, symbol may be delisted\n",
      "HDS: No timezone found, symbol may be delisted\n",
      "FMBI: No timezone found, symbol may be delisted\n",
      "VAR: No timezone found, symbol may be delisted\n",
      "XLS-WI: Period 'max' is invalid, must be one of ['1d', '5d']\n",
      "TMK: No timezone found, symbol may be delisted\n",
      "APOL: No price data found, symbol may be delisted (1d 1925-05-21 -> 2024-04-27)\n",
      "ROC: No timezone found, symbol may be delisted\n",
      "ARNA: No timezone found, symbol may be delisted\n",
      "INFO: No timezone found, symbol may be delisted\n",
      "CMLPSX: No price data found, symbol may be delisted (1d 1925-05-21 -> 2024-04-27)\n",
      "UNRDY: No timezone found, symbol may be delisted\n",
      "ADT.F: No timezone found, symbol may be delisted\n",
      "BPL: No timezone found, symbol may be delisted\n"
     ]
    },
    {
     "name": "stdout",
     "output_type": "stream",
     "text": [
      "Working on ticker 700\n"
     ]
    },
    {
     "name": "stderr",
     "output_type": "stream",
     "text": [
      "SXL: No price data found, symbol may be delisted (1d 1925-05-21 -> 2024-04-27)\n",
      "AZSEY: No timezone found, symbol may be delisted\n",
      "CTRX: No price data found, symbol may be delisted (1d 1925-05-21 -> 2024-04-27)\n",
      "LNKD: No price data found, symbol may be delisted (1d 1925-05-21 -> 2024-04-27)\n",
      "CAM: No price data found, symbol may be delisted (1d 1925-05-21 -> 2024-04-27)\n",
      "BRK.B: No timezone found, symbol may be delisted\n",
      "MWE: No price data found, symbol may be delisted (1d 1925-05-21 -> 2024-04-27)\n",
      "ABC: No timezone found, symbol may be delisted\n",
      "SGY: No price data found, symbol may be delisted (1d 1925-05-21 -> 2024-04-27)\n",
      "TNTOF: No timezone found, symbol may be delisted\n",
      "EPAY: No timezone found, symbol may be delisted\n",
      "REN: No timezone found, symbol may be delisted\n",
      "RXN: No timezone found, symbol may be delisted\n",
      "OKS: No price data found, symbol may be delisted (1d 1925-05-21 -> 2024-04-27)\n",
      "CYBX: No price data found, symbol may be delisted (1d 1925-05-21 -> 2024-04-27)\n",
      "MJN: No price data found, symbol may be delisted (1d 1925-05-21 -> 2024-04-27)\n",
      "XTXI: No price data found, symbol may be delisted (1d 1925-05-21 -> 2024-04-27)\n",
      "TNGO: No price data found, symbol may be delisted (1d 1925-05-21 -> 2024-04-27)\n",
      "LOCK: No price data found, symbol may be delisted (1d 1925-05-21 -> 2024-04-27)\n",
      "CFX: No timezone found, symbol may be delisted\n",
      "AVP: No timezone found, symbol may be delisted\n",
      "RRD: No timezone found, symbol may be delisted\n",
      "PHLD: No timezone found, symbol may be delisted\n",
      "PCLN: No price data found, symbol may be delisted (1d 1925-05-21 -> 2024-04-27)\n"
     ]
    },
    {
     "name": "stdout",
     "output_type": "stream",
     "text": [
      "Working on ticker 800\n"
     ]
    },
    {
     "name": "stderr",
     "output_type": "stream",
     "text": [
      "CRZO: No timezone found, symbol may be delisted\n",
      "CIT: No timezone found, symbol may be delisted\n",
      "FB: No timezone found, symbol may be delisted\n",
      "BRCD: No price data found, symbol may be delisted (1d 1925-05-21 -> 2024-04-27)\n",
      "VSI: No timezone found, symbol may be delisted\n",
      "LM09.SG: No timezone found, symbol may be delisted\n",
      "PDRDY: No timezone found, symbol may be delisted\n",
      "CTL: No timezone found, symbol may be delisted\n",
      "DNKN: No timezone found, symbol may be delisted\n",
      "LNCO: No price data found, symbol may be delisted (1d 1925-05-21 -> 2024-04-27)\n",
      "IPCM: No price data found, symbol may be delisted (1d 1925-05-21 -> 2024-04-27)\n",
      "NHF: No timezone found, symbol may be delisted\n",
      "NGLS: No price data found, symbol may be delisted (1d 1925-05-21 -> 2024-04-27)\n",
      "OFC: No timezone found, symbol may be delisted\n",
      "ZMH: No price data found, symbol may be delisted (1d 1925-05-21 -> 2024-04-27)\n"
     ]
    },
    {
     "name": "stdout",
     "output_type": "stream",
     "text": [
      "Working on ticker 900\n"
     ]
    },
    {
     "name": "stderr",
     "output_type": "stream",
     "text": [
      "ALXN: No timezone found, symbol may be delisted\n",
      "ADS: No timezone found, symbol may be delisted\n",
      "COH: No price data found, symbol may be delisted (1d 1925-05-21 -> 2024-04-27)\n",
      "BABY: No timezone found, symbol may be delisted\n",
      "ABB: No timezone found, symbol may be delisted\n",
      "ECIFY: No timezone found, symbol may be delisted\n",
      "BRKB: No timezone found, symbol may be delisted\n",
      "VSM: No timezone found, symbol may be delisted\n",
      "MANT: No timezone found, symbol may be delisted\n",
      "3V64.TI: No timezone found, symbol may be delisted\n",
      "FOE: No timezone found, symbol may be delisted\n",
      "RTN: No timezone found, symbol may be delisted\n",
      "DLPH: No timezone found, symbol may be delisted\n",
      "WPX: No timezone found, symbol may be delisted\n",
      "CBS: No timezone found, symbol may be delisted\n",
      "POT: No price data found, symbol may be delisted (1d 1925-05-21 -> 2024-04-27)\n",
      "CLR: No timezone found, symbol may be delisted\n",
      "CXO: No timezone found, symbol may be delisted\n",
      "ATML: No price data found, symbol may be delisted (1d 1925-05-21 -> 2024-04-27)\n",
      "GMT: No price data found, symbol may be delisted (1d 1925-05-21 -> 2024-04-27)\n",
      "JPJQL: No timezone found, symbol may be delisted\n",
      "COJPF: No timezone found, symbol may be delisted\n",
      "DISH: No timezone found, symbol may be delisted\n",
      "CPGX: No price data found, symbol may be delisted (1d 1925-05-21 -> 2024-04-27)\n",
      "OCR: No price data found, symbol may be delisted (1d 1925-05-21 -> 2024-04-27)\n"
     ]
    },
    {
     "name": "stdout",
     "output_type": "stream",
     "text": [
      "Working on ticker 1000\n"
     ]
    },
    {
     "name": "stderr",
     "output_type": "stream",
     "text": [
      "AXLL: No price data found, symbol may be delisted (1d 1925-05-21 -> 2024-04-27)\n",
      "BCR: No price data found, symbol may be delisted (1d 1925-05-21 -> 2024-04-27)\n",
      "DFRG: No timezone found, symbol may be delisted\n",
      "WLL: No timezone found, symbol may be delisted\n",
      "MRD: No price data found, symbol may be delisted (1d 1925-05-21 -> 2024-04-27)\n",
      "WR: No price data found, symbol may be delisted (1d 1925-05-21 -> 2024-04-27)\n",
      "AQFH: No timezone found, symbol may be delisted\n",
      "ATVI: No timezone found, symbol may be delisted\n",
      "CUB: No timezone found, symbol may be delisted\n",
      "RAVN: No timezone found, symbol may be delisted\n",
      "DCP: No timezone found, symbol may be delisted\n",
      "FMER: No price data found, symbol may be delisted (1d 1925-05-21 -> 2024-04-27)\n",
      "LNCGY: No price data found, symbol may be delisted (1d 1925-05-21 -> 2024-04-27)\n",
      "VIAC: No timezone found, symbol may be delisted\n",
      "ZNGA.SW: No timezone found, symbol may be delisted\n",
      "RHT: No timezone found, symbol may be delisted\n",
      "MMP: No timezone found, symbol may be delisted\n"
     ]
    },
    {
     "name": "stdout",
     "output_type": "stream",
     "text": [
      "Working on ticker 1100\n"
     ]
    },
    {
     "name": "stderr",
     "output_type": "stream",
     "text": [
      "CMO: No timezone found, symbol may be delisted\n",
      "CVA: No timezone found, symbol may be delisted\n",
      "BIF: No timezone found, symbol may be delisted\n",
      "RDS-A: No timezone found, symbol may be delisted\n",
      "DPSGY: No timezone found, symbol may be delisted\n",
      "GSJK: No price data found, symbol may be delisted (1d 1925-05-21 -> 2024-04-27)\n",
      "CEQP: No timezone found, symbol may be delisted\n",
      "MFRM: No price data found, symbol may be delisted (1d 1925-05-21 -> 2024-04-27)\n",
      "NEE-PRI: No timezone found, symbol may be delisted\n",
      "HFC: No timezone found, symbol may be delisted\n",
      "WETF: No timezone found, symbol may be delisted\n",
      "KORS: No price data found, symbol may be delisted (1d 1925-05-21 -> 2024-04-27)\n",
      "STO: No price data found, symbol may be delisted (1d 1925-05-21 -> 2024-04-27)\n",
      "LMST: No timezone found, symbol may be delisted\n",
      "AJRD: No timezone found, symbol may be delisted\n",
      "PBCT: No timezone found, symbol may be delisted\n",
      "PE: No timezone found, symbol may be delisted\n",
      "VNTV: No price data found, symbol may be delisted (1d 1925-05-21 -> 2024-04-27)\n",
      "BGG: No timezone found, symbol may be delisted\n",
      "RAD: No timezone found, symbol may be delisted\n",
      "VMW: No timezone found, symbol may be delisted\n",
      "ONNN: No price data found, symbol may be delisted (1d 1925-05-21 -> 2024-04-27)\n",
      "FNGN: No timezone found, symbol may be delisted\n"
     ]
    },
    {
     "name": "stdout",
     "output_type": "stream",
     "text": [
      "Working on ticker 1200\n"
     ]
    },
    {
     "name": "stderr",
     "output_type": "stream",
     "text": [
      "UA-C: No timezone found, symbol may be delisted\n",
      "QEP: No timezone found, symbol may be delisted\n",
      "DDAIF: No timezone found, symbol may be delisted\n",
      "PWE: No price data found, symbol may be delisted (1d 1925-05-21 -> 2024-04-27)\n",
      "SYMC: No timezone found, symbol may be delisted\n",
      "XER.BE: No timezone found, symbol may be delisted\n",
      "ROLL: No timezone found, symbol may be delisted\n",
      "ZIOP: No timezone found, symbol may be delisted\n",
      "VRX: No price data found, symbol may be delisted (1d 1925-05-21 -> 2024-04-27)\n",
      "MPO: No timezone found, symbol may be delisted\n",
      "BBBY: No timezone found, symbol may be delisted\n",
      "KL: No timezone found, symbol may be delisted\n",
      "BBRY: No price data found, symbol may be delisted (1d 1925-05-21 -> 2024-04-27)\n",
      "LB: No timezone found, symbol may be delisted\n",
      "TE: No price data found, symbol may be delisted (1d 1925-05-21 -> 2024-04-27)\n",
      "ARRS: No timezone found, symbol may be delisted\n",
      "USB-PN: No timezone found, symbol may be delisted\n",
      "WBK: No timezone found, symbol may be delisted\n"
     ]
    },
    {
     "name": "stdout",
     "output_type": "stream",
     "text": [
      "Working on ticker 1300\n"
     ]
    },
    {
     "name": "stderr",
     "output_type": "stream",
     "text": [
      "AGN: No timezone found, symbol may be delisted\n",
      "LINE: No price data found, symbol may be delisted (1d 1925-05-21 -> 2024-04-27)\n",
      "CMN: No price data found, symbol may be delisted (1d 1925-05-21 -> 2024-04-27)\n",
      "SQI: No price data found, symbol may be delisted (1d 1925-05-21 -> 2024-04-27)\n",
      "ATH: No timezone found, symbol may be delisted\n",
      "VTTI: No price data found, symbol may be delisted (1d 1925-05-21 -> 2024-04-27)\n",
      "EXXI: No price data found, symbol may be delisted (1d 1925-05-21 -> 2024-04-27)\n",
      "MTSC: No timezone found, symbol may be delisted\n",
      "EQM: No timezone found, symbol may be delisted\n",
      "LMACU: No timezone found, symbol may be delisted\n",
      "TWC: No price data found, symbol may be delisted (1d 1925-05-21 -> 2024-04-27)\n",
      "SJR: No timezone found, symbol may be delisted\n",
      "CTRL: No timezone found, symbol may be delisted\n",
      "LGP: No price data found, symbol may be delisted (1d 1925-05-21 -> 2024-04-27)\n",
      "MYL: No timezone found, symbol may be delisted\n",
      "NPSND: No price data found, symbol may be delisted (1d 1925-05-21 -> 2024-04-27)\n",
      "LMRK: No timezone found, symbol may be delisted\n",
      "BBL: No timezone found, symbol may be delisted\n",
      "ROSE: No timezone found, symbol may be delisted\n",
      "ESV: No timezone found, symbol may be delisted\n",
      "NTI: No price data found, symbol may be delisted (1d 1925-05-21 -> 2024-04-27)\n",
      "LMCA: No price data found, symbol may be delisted (1d 1925-05-21 -> 2024-04-27)\n",
      "PSXP: No timezone found, symbol may be delisted\n",
      "SHLX: No timezone found, symbol may be delisted\n"
     ]
    },
    {
     "name": "stdout",
     "output_type": "stream",
     "text": [
      "Working on ticker 1400\n"
     ]
    },
    {
     "name": "stderr",
     "output_type": "stream",
     "text": [
      "DWDP: No timezone found, symbol may be delisted\n",
      "CMLP: No price data found, symbol may be delisted (1d 1925-05-21 -> 2024-04-27)\n",
      "CTECBX: No price data found, symbol may be delisted (1d 1925-05-21 -> 2024-04-27)\n",
      "WTR: No timezone found, symbol may be delisted\n",
      "BKEP: No timezone found, symbol may be delisted\n",
      "CJES: No price data found, symbol may be delisted (1d 1925-05-21 -> 2024-04-27)\n",
      "ITYBY: No price data found, symbol may be delisted (1d 1925-05-21 -> 2024-04-27)\n",
      "VPFG: No price data found, symbol may be delisted (1d 1925-05-21 -> 2024-04-27)\n",
      "COF-PP: No timezone found, symbol may be delisted\n",
      "LSI: No timezone found, symbol may be delisted\n",
      "LTXB: No timezone found, symbol may be delisted\n",
      "UMPQ: No timezone found, symbol may be delisted\n"
     ]
    },
    {
     "name": "stdout",
     "output_type": "stream",
     "text": [
      "Working on ticker 1500\n"
     ]
    },
    {
     "name": "stderr",
     "output_type": "stream",
     "text": [
      "TYC: No price data found, symbol may be delisted (1d 1925-05-21 -> 2024-04-27)\n",
      "RDS-B: No timezone found, symbol may be delisted\n",
      "SPY160219P00180000: No timezone found, symbol may be delisted\n",
      "EVOP: No timezone found, symbol may be delisted\n",
      "TUMI: No price data found, symbol may be delisted (1d 1925-05-21 -> 2024-04-27)\n",
      "CY: No timezone found, symbol may be delisted\n"
     ]
    }
   ],
   "execution_count": 8
  },
  {
   "cell_type": "markdown",
   "metadata": {},
   "source": [
    "### Mimicking buy + sell orders\n",
    "\n",
    "We calculate a given senator's return by calculating the return between each buy or sell order, and then solving for the cumulative return. We convert that to a CAGR given the time period the senator was investing.\n",
    "\n",
    "We keep track of how many units of each stock a senator is holding. If we ever see a filing that indicates the senator sold more than we estimated they are holding, we just sell all of the units we have on record. (We do not allow the senator to go short.)"
   ]
  },
  {
   "cell_type": "code",
   "metadata": {
    "collapsed": false,
    "ExecuteTime": {
     "end_time": "2024-04-27T20:05:20.497152Z",
     "start_time": "2024-04-27T20:05:20.476234Z"
    }
   },
   "source": [
    "buckets = [\n",
    "    (1000, 15000),\n",
    "    (15000, 50000),\n",
    "    (50000, 100000),\n",
    "    (100000, 250000),\n",
    "    (250000, 500000),\n",
    "    (500000, 1000000),\n",
    "    (1000000, 5000000),\n",
    "    (5000000, 25000000),\n",
    "    (25000000, 50000000),\n",
    "    (50000000, float('inf'))\n",
    "]\n",
    "\n",
    "def same_bucket(dollar_value_a, dollar_value_b):\n",
    "    \"\"\"\n",
    "    If the dollar value of the stock units is roughly the same, sell all\n",
    "    units.\n",
    "    \"\"\"\n",
    "    for v1, v2 in buckets:\n",
    "        if dollar_value_a >= v1 and dollar_value_a < v2:\n",
    "            return dollar_value_b >= v1 and dollar_value_b < v2\n",
    "    return False\n",
    "\n",
    "def portfolio_value(stocks, date):\n",
    "    \"\"\"\n",
    "    Value of a portfolio if each ticker has the specified number of units.\n",
    "    \"\"\"\n",
    "    v = 0\n",
    "    for s, units in stocks.items():\n",
    "        if units == 0:\n",
    "            continue\n",
    "        try:\n",
    "            v += ticker_at_date(s, date) * units\n",
    "        except IndexError as e:\n",
    "            # Swallow missing ticker data exception\n",
    "            pass\n",
    "    return v\n",
    "\n",
    "def calculate_return(before_values,\n",
    "                     after_values,\n",
    "                     begin_date,\n",
    "                     end_date,\n",
    "                     tx_dates):\n",
    "    \"\"\"\n",
    "    Calculate cumulative return and CAGR given the senators portfolio\n",
    "    value over time.\n",
    "    \"\"\"\n",
    "    before_values.pop(0)\n",
    "    after_values.pop(-1)\n",
    "    # We calculate the total return by calculating the return\n",
    "    # between each transaction, and solving for the cumulative\n",
    "    # return.\n",
    "    growth = np.array(before_values) / np.array(after_values)\n",
    "    portfolio_return = np.prod(growth[~np.isnan(growth)])\n",
    "    years = (end_date - begin_date).days / 365\n",
    "    if years == 0:\n",
    "        cagr = 0\n",
    "    else:\n",
    "        cagr = portfolio_return**(1 / years)\n",
    "    # DataFrame of cumulative return\n",
    "    tx_dates.pop(0)\n",
    "    tx_dates = np.array(tx_dates)\n",
    "    tx_dates = tx_dates[~np.isnan(growth)]\n",
    "    cumulative_growth = np.cumprod(growth[~np.isnan(growth)])\n",
    "    growth_df = pd.DataFrame({\n",
    "        'date': tx_dates,\n",
    "        'cumulative_growth': cumulative_growth\n",
    "    })\n",
    "    return {\n",
    "        'portfolio_return': portfolio_return,\n",
    "        'annual_cagr': cagr,\n",
    "        'growth': growth_df\n",
    "    }\n",
    "\n",
    "def return_for_senator(rows, date_col='tx_date'):\n",
    "    \"\"\"\n",
    "    Simulate a senator's buy and sell orders, and calculate the\n",
    "    return.\n",
    "    \"\"\"\n",
    "    stocks = defaultdict(int)\n",
    "    # Value of portfolio at various timepoints to calculate return\n",
    "    portfolio_value_before_tx = []\n",
    "    portfolio_value_after_tx = []\n",
    "    tx_dates = []\n",
    "    rows = rows.sort_values(by=date_col)\n",
    "    for _, row in rows.iterrows():\n",
    "        date = row[date_col]\n",
    "        if date_col == 'file_date':\n",
    "            # We can't execute the trade the same day\n",
    "            date += dt.timedelta(days=1)\n",
    "        try:\n",
    "            stock_price = ticker_at_date(row['ticker'], date)\n",
    "        except IndexError as e:\n",
    "            # Skip the row if we're missing ticker data\n",
    "            continue\n",
    "        value_before_tx = portfolio_value(stocks, date)\n",
    "        if 'Purchase' in row['order_type']:\n",
    "            tx_amt = row['tx_estimate']\n",
    "            n_units = tx_amt / ticker_at_date(row['ticker'], date)\n",
    "            stocks[row['ticker']] += n_units\n",
    "        elif 'Sale' in row['order_type']:\n",
    "            current_value = stock_price * stocks[row['ticker']]\n",
    "            if 'Full' in row['order_type'] or\\\n",
    "                same_bucket(row['tx_estimate'], current_value):\n",
    "                stocks[row['ticker']] = 0\n",
    "            else:\n",
    "                new_n_units = stocks[row['ticker']] - \\\n",
    "                    row['tx_estimate'] / stock_price\n",
    "                stocks[row['ticker']] = max(0, new_n_units)\n",
    "        portfolio_value_before_tx.append(value_before_tx)\n",
    "        portfolio_value_after_tx.append(portfolio_value(stocks, date))\n",
    "        tx_dates.append(date)\n",
    "    return calculate_return(\n",
    "        portfolio_value_before_tx,\n",
    "        portfolio_value_after_tx,\n",
    "        begin_date=min(rows[date_col]),\n",
    "        end_date=max(rows[date_col]),\n",
    "        tx_dates=tx_dates\n",
    "    )"
   ],
   "outputs": [],
   "execution_count": 9
  },
  {
   "cell_type": "code",
   "metadata": {
    "collapsed": false,
    "ExecuteTime": {
     "end_time": "2024-04-27T20:05:20.540419Z",
     "start_time": "2024-04-27T20:05:20.502244Z"
    }
   },
   "source": [
    "senator_returns = []\n",
    "senator_tx_growth = {}\n",
    "senator_file_growth = {}\n",
    "senator_names = set(senators_tx['full_name'])"
   ],
   "outputs": [],
   "execution_count": 10
  },
  {
   "cell_type": "markdown",
   "metadata": {},
   "source": [
    "The following cell took my laptop about three hours to run."
   ]
  },
  {
   "cell_type": "code",
   "metadata": {
    "collapsed": false,
    "scrolled": true,
    "ExecuteTime": {
     "end_time": "2024-04-27T20:05:54.924675Z",
     "start_time": "2024-04-27T20:05:20.548287Z"
    }
   },
   "source": [
    "failed_senators = {}\n",
    "print('{} senators total'.format(len(senator_names)))\n",
    "for n in senator_names:\n",
    "    print('Starting {}'.format(n))\n",
    "    if n in senator_tx_growth:\n",
    "        # Don't re-calculate for a given senator\n",
    "        continue\n",
    "    try:\n",
    "        tx_return = return_for_senator(\n",
    "            senators_tx[senators_tx['full_name'] == n],\n",
    "            date_col='tx_date')\n",
    "        file_return = return_for_senator(\n",
    "            senators_tx[senators_tx['full_name'] == n],\n",
    "            date_col='file_date')\n",
    "        senator_returns.append({\n",
    "            'full_name': n,\n",
    "            'tx_total_return': tx_return['portfolio_return'],\n",
    "            'tx_cagr': tx_return['annual_cagr'],\n",
    "            'file_total_return': file_return['portfolio_return'],\n",
    "            'file_cagr': file_return['annual_cagr']\n",
    "        })\n",
    "        senator_tx_growth[n] = tx_return['growth']\n",
    "        senator_file_growth[n] = file_return['growth']\n",
    "    except Exception as e:\n",
    "        print('Failed senator {0} with exception {1}'.format(n, e))\n",
    "        failed_senators[n] = e"
   ],
   "outputs": [
    {
     "name": "stdout",
     "output_type": "stream",
     "text": [
      "62 senators total\n",
      "Starting Maria Cantwell\n"
     ]
    },
    {
     "name": "stderr",
     "output_type": "stream",
     "text": [
      "RNWK: No timezone found, symbol may be delisted\n",
      "RNWK: No timezone found, symbol may be delisted\n",
      "RNWK: No timezone found, symbol may be delisted\n",
      "RNWK: No timezone found, symbol may be delisted\n",
      "RNWK: No timezone found, symbol may be delisted\n",
      "RNWK: No timezone found, symbol may be delisted\n"
     ]
    },
    {
     "name": "stdout",
     "output_type": "stream",
     "text": [
      "Failed senator Maria Cantwell with exception pop from empty list\n",
      "Starting Markwayne Mullin\n",
      "Failed senator Markwayne Mullin with exception Invalid comparison between dtype=datetime64[ns, America/New_York] and Timestamp\n",
      "Starting Jon Kyl\n"
     ]
    },
    {
     "name": "stderr",
     "output_type": "stream",
     "text": [
      "TWTR: No timezone found, symbol may be delisted\n",
      "TWTR: No timezone found, symbol may be delisted\n"
     ]
    },
    {
     "name": "stdout",
     "output_type": "stream",
     "text": [
      "Failed senator Jon Kyl with exception Invalid comparison between dtype=datetime64[ns, America/New_York] and Timestamp\n",
      "Starting Michael  B Enzi\n",
      "Failed senator Michael  B Enzi with exception Invalid comparison between dtype=datetime64[ns, America/New_York] and Timestamp\n",
      "Starting James M Inhofe\n",
      "Failed senator James M Inhofe with exception Invalid comparison between dtype=datetime64[ns, America/New_York] and Timestamp\n",
      "Starting John Hoeven\n",
      "Failed senator John Hoeven with exception Invalid comparison between dtype=datetime64[ns, America/New_York] and Timestamp\n",
      "Starting John P Ricketts\n",
      "Failed senator John P Ricketts with exception Invalid comparison between dtype=datetime64[ns, America/New_York] and Timestamp\n",
      "Starting Gary C Peters\n",
      "Failed senator Gary C Peters with exception Invalid comparison between dtype=datetime64[ns, America/New_York] and Timestamp\n",
      "Starting Ron L Wyden\n"
     ]
    },
    {
     "name": "stderr",
     "output_type": "stream",
     "text": [
      "POT: No price data found, symbol may be delisted (1d 1925-05-21 -> 2024-04-27)\n"
     ]
    },
    {
     "name": "stdout",
     "output_type": "stream",
     "text": [
      "Failed senator Ron L Wyden with exception Invalid comparison between dtype=datetime64[ns, America/New_York] and Timestamp\n",
      "Starting Tammy Duckworth\n",
      "Failed senator Tammy Duckworth with exception Invalid comparison between dtype=datetime64[ns, America/New_York] and Timestamp\n",
      "Starting Angus S King, Jr.\n",
      "Failed senator Angus S King, Jr. with exception Invalid comparison between dtype=datetime64[ns, America/New_York] and Timestamp\n",
      "Starting Daniel S Sullivan\n",
      "Failed senator Daniel S Sullivan with exception Invalid comparison between dtype=datetime64[ns, America/New_York] and Timestamp\n",
      "Starting John Boozman\n",
      "Failed senator John Boozman with exception Invalid comparison between dtype=datetime64[ns, America/New_York] and Timestamp\n",
      "Starting JD Vance\n",
      "Failed senator JD Vance with exception Invalid comparison between dtype=datetime64[ns, America/New_York] and Timestamp\n",
      "Starting Claire McCaskill\n",
      "Failed senator Claire McCaskill with exception Invalid comparison between dtype=datetime64[ns, America/New_York] and Timestamp\n",
      "Starting Roger F Wicker\n",
      "Failed senator Roger F Wicker with exception Invalid comparison between dtype=datetime64[ns, America/New_York] and Timestamp\n",
      "Starting Tina Smith\n",
      "Failed senator Tina Smith with exception Invalid comparison between dtype=datetime64[ns, America/New_York] and Timestamp\n",
      "Starting William Cassidy\n",
      "Failed senator William Cassidy with exception Invalid comparison between dtype=datetime64[ns, America/New_York] and Timestamp\n",
      "Starting Timothy M Kaine\n",
      "Failed senator Timothy M Kaine with exception Invalid comparison between dtype=datetime64[ns, America/New_York] and Timestamp\n",
      "Starting Michael F Bennet\n",
      "Failed senator Michael F Bennet with exception Invalid comparison between dtype=datetime64[ns, America/New_York] and Timestamp\n",
      "Starting Mark R Warner\n"
     ]
    },
    {
     "name": "stderr",
     "output_type": "stream",
     "text": [
      "XON: No timezone found, symbol may be delisted\n",
      "ZIOP: No timezone found, symbol may be delisted\n"
     ]
    },
    {
     "name": "stdout",
     "output_type": "stream",
     "text": [
      "Failed senator Mark R Warner with exception Invalid comparison between dtype=datetime64[ns, America/New_York] and Timestamp\n",
      "Starting Rand Paul\n"
     ]
    },
    {
     "name": "stderr",
     "output_type": "stream",
     "text": [
      "                                                                                                                                                                                                        : No timezone found, symbol may be delisted\n",
      "CJES: No price data found, symbol may be delisted (1d 1925-05-21 -> 2024-04-27)\n"
     ]
    },
    {
     "name": "stdout",
     "output_type": "stream",
     "text": [
      "Failed senator Rand Paul with exception pop from empty list\n",
      "Starting Thad Cochran\n"
     ]
    },
    {
     "name": "stderr",
     "output_type": "stream",
     "text": [
      "CJES: No price data found, symbol may be delisted (1d 1925-05-21 -> 2024-04-27)\n",
      "                                                                                                                                                                                                        : No timezone found, symbol may be delisted\n",
      "                                                                                                                                                                                                        : No timezone found, symbol may be delisted\n",
      "                                                                                                                                                                                                        : No timezone found, symbol may be delisted\n",
      "                                                                                                                                                                                                        : No timezone found, symbol may be delisted\n",
      "                                                                                                                                                                                                        : No timezone found, symbol may be delisted\n",
      "                                                                                                                                                                                                        : No timezone found, symbol may be delisted\n"
     ]
    },
    {
     "name": "stdout",
     "output_type": "stream",
     "text": [
      "Failed senator Thad Cochran with exception Invalid comparison between dtype=datetime64[ns, America/New_York] and Timestamp\n",
      "Starting Dean Heller\n",
      "Failed senator Dean Heller with exception Invalid comparison between dtype=datetime64[ns, America/New_York] and Timestamp\n",
      "Starting Shelley M Capito\n",
      "Failed senator Shelley M Capito with exception Invalid comparison between dtype=datetime64[ns, America/New_York] and Timestamp\n",
      "Starting John R Thune\n",
      "Failed senator John R Thune with exception Invalid comparison between dtype=datetime64[ns, America/New_York] and Timestamp\n",
      "Starting Benjamin L Cardin\n",
      "Failed senator Benjamin L Cardin with exception Invalid comparison between dtype=datetime64[ns, America/New_York] and Timestamp\n",
      "Starting Debra S Fischer\n",
      "Failed senator Debra S Fischer with exception Invalid comparison between dtype=datetime64[ns, America/New_York] and Timestamp\n",
      "Starting Roy Blunt\n",
      "Failed senator Roy Blunt with exception Invalid comparison between dtype=datetime64[ns, America/New_York] and Timestamp\n",
      "Starting Thomas R Tillis\n",
      "Failed senator Thomas R Tillis with exception Invalid comparison between dtype=datetime64[ns, America/New_York] and Timestamp\n",
      "Starting Thomas Udall\n"
     ]
    },
    {
     "name": "stderr",
     "output_type": "stream",
     "text": [
      "CBS: No timezone found, symbol may be delisted\n"
     ]
    },
    {
     "name": "stdout",
     "output_type": "stream",
     "text": [
      "Failed senator Thomas Udall with exception Invalid comparison between dtype=datetime64[ns, America/New_York] and Timestamp\n",
      "Starting Patty Murray\n"
     ]
    },
    {
     "name": "stderr",
     "output_type": "stream",
     "text": [
      "DLPH: No timezone found, symbol may be delisted\n",
      "RTN: No timezone found, symbol may be delisted\n"
     ]
    },
    {
     "name": "stdout",
     "output_type": "stream",
     "text": [
      "Failed senator Patty Murray with exception Invalid comparison between dtype=datetime64[ns, America/New_York] and Timestamp\n",
      "Starting Thomas H Tuberville\n",
      "Failed senator Thomas H Tuberville with exception Invalid comparison between dtype=datetime64[ns, America/New_York] and Timestamp\n",
      "Starting Pat Roberts\n",
      "Failed senator Pat Roberts with exception Invalid comparison between dtype=datetime64[ns, America/New_York] and Timestamp\n",
      "Starting Jeffry L Flake\n"
     ]
    },
    {
     "name": "stderr",
     "output_type": "stream",
     "text": [
      "                                                                                                                                                                                                        : No timezone found, symbol may be delisted\n",
      "                                                                                                                                                                                                        : No timezone found, symbol may be delisted\n"
     ]
    },
    {
     "name": "stdout",
     "output_type": "stream",
     "text": [
      "Failed senator Jeffry L Flake with exception Invalid comparison between dtype=datetime64[ns, America/New_York] and Timestamp\n",
      "Starting Steve Daines\n",
      "Failed senator Steve Daines with exception pop from empty list\n",
      "Starting Cory A Booker\n",
      "Failed senator Cory A Booker with exception Invalid comparison between dtype=datetime64[ns, America/New_York] and Timestamp\n",
      "Starting John W Hickenlooper\n"
     ]
    },
    {
     "name": "stderr",
     "output_type": "stream",
     "text": [
      "LMACU: No timezone found, symbol may be delisted\n"
     ]
    },
    {
     "name": "stdout",
     "output_type": "stream",
     "text": [
      "Failed senator John W Hickenlooper with exception Invalid comparison between dtype=datetime64[ns, America/New_York] and Timestamp\n",
      "Starting Christopher A Coons\n",
      "Failed senator Christopher A Coons with exception Invalid comparison between dtype=datetime64[ns, America/New_York] and Timestamp\n",
      "Starting Jerry Moran,  \n",
      "Failed senator Jerry Moran,   with exception Invalid comparison between dtype=datetime64[ns, America/New_York] and Timestamp\n",
      "Starting Thomas R Carper\n"
     ]
    },
    {
     "name": "stderr",
     "output_type": "stream",
     "text": [
      "LINE: No price data found, symbol may be delisted (1d 1925-05-21 -> 2024-04-27)\n",
      "LINE: No price data found, symbol may be delisted (1d 1925-05-21 -> 2024-04-27)\n"
     ]
    },
    {
     "name": "stdout",
     "output_type": "stream",
     "text": [
      "Failed senator Thomas R Carper with exception Invalid comparison between dtype=datetime64[ns, America/New_York] and Timestamp\n",
      "Starting Patrick J Toomey\n",
      "Failed senator Patrick J Toomey with exception Invalid comparison between dtype=datetime64[ns, America/New_York] and Timestamp\n",
      "Starting David A Perdue , Jr\n",
      "Failed senator David A Perdue , Jr with exception Invalid comparison between dtype=datetime64[ns, America/New_York] and Timestamp\n",
      "Starting John F Reed\n"
     ]
    },
    {
     "name": "stderr",
     "output_type": "stream",
     "text": [
      "                                                                                                                                                                                                        : No timezone found, symbol may be delisted\n"
     ]
    },
    {
     "name": "stdout",
     "output_type": "stream",
     "text": [
      "Failed senator John F Reed with exception Invalid comparison between dtype=datetime64[ns, America/New_York] and Timestamp\n",
      "Starting Robert P Corker, Jr.\n"
     ]
    },
    {
     "name": "stderr",
     "output_type": "stream",
     "text": [
      "                                                                                                                                                                                                        : No timezone found, symbol may be delisted\n",
      "                                                                                                                                                                                                        : No timezone found, symbol may be delisted\n",
      "                                                                                                                                                                                                        : No timezone found, symbol may be delisted\n"
     ]
    },
    {
     "name": "stdout",
     "output_type": "stream",
     "text": [
      "Failed senator Robert P Corker, Jr. with exception Invalid comparison between dtype=datetime64[ns, America/New_York] and Timestamp\n",
      "Starting Chris Van Hollen\n",
      "Failed senator Chris Van Hollen with exception Invalid comparison between dtype=datetime64[ns, America/New_York] and Timestamp\n",
      "Starting A. Mitchell McConnell, Jr.\n"
     ]
    },
    {
     "name": "stderr",
     "output_type": "stream",
     "text": [
      "                                                                                                                                                                                                        : No timezone found, symbol may be delisted\n"
     ]
    },
    {
     "name": "stdout",
     "output_type": "stream",
     "text": [
      "Failed senator A. Mitchell McConnell, Jr. with exception Invalid comparison between dtype=datetime64[ns, America/New_York] and Timestamp\n",
      "Starting Lindsey Graham\n",
      "Failed senator Lindsey Graham with exception Invalid comparison between dtype=datetime64[ns, America/New_York] and Timestamp\n",
      "Starting Mike Rounds\n",
      "Failed senator Mike Rounds with exception pop from empty list\n",
      "Starting Sheldon Whitehouse\n"
     ]
    },
    {
     "name": "stderr",
     "output_type": "stream",
     "text": [
      "LNKD: No price data found, symbol may be delisted (1d 1925-05-21 -> 2024-04-27)\n",
      "SYMC: No timezone found, symbol may be delisted\n"
     ]
    },
    {
     "name": "stdout",
     "output_type": "stream",
     "text": [
      "Failed senator Sheldon Whitehouse with exception Invalid comparison between dtype=datetime64[ns, America/New_York] and Timestamp\n",
      "Starting Ladda Tammy Duckworth\n"
     ]
    },
    {
     "name": "stderr",
     "output_type": "stream",
     "text": [
      "BBL: No timezone found, symbol may be delisted\n"
     ]
    },
    {
     "name": "stdout",
     "output_type": "stream",
     "text": [
      "Failed senator Ladda Tammy Duckworth with exception Invalid comparison between dtype=datetime64[ns, America/New_York] and Timestamp\n",
      "Starting Cynthia M Lummis\n",
      "Failed senator Cynthia M Lummis with exception Invalid comparison between dtype=datetime64[ns, America/New_York] and Timestamp\n",
      "Starting William F Hagerty, IV\n",
      "Failed senator William F Hagerty, IV with exception Invalid comparison between dtype=datetime64[ns, America/New_York] and Timestamp\n",
      "Starting John N Kennedy\n",
      "Failed senator John N Kennedy with exception Invalid comparison between dtype=datetime64[ns, America/New_York] and Timestamp\n",
      "Starting Robert P Casey, Jr.\n",
      "Failed senator Robert P Casey, Jr. with exception Invalid comparison between dtype=datetime64[ns, America/New_York] and Timestamp\n",
      "Starting Joseph Manchin, III\n",
      "Failed senator Joseph Manchin, III with exception Invalid comparison between dtype=datetime64[ns, America/New_York] and Timestamp\n",
      "Starting Susan M Collins\n",
      "Failed senator Susan M Collins with exception Invalid comparison between dtype=datetime64[ns, America/New_York] and Timestamp\n",
      "Starting Jacklyn S Rosen\n"
     ]
    },
    {
     "name": "stderr",
     "output_type": "stream",
     "text": [
      "APC: No timezone found, symbol may be delisted\n"
     ]
    },
    {
     "name": "stdout",
     "output_type": "stream",
     "text": [
      "Failed senator Jacklyn S Rosen with exception pop from empty list\n",
      "Starting Rick Scott\n"
     ]
    },
    {
     "name": "stderr",
     "output_type": "stream",
     "text": [
      "WTT: No timezone found, symbol may be delisted\n",
      "WTT: No timezone found, symbol may be delisted\n",
      "WTT: No timezone found, symbol may be delisted\n"
     ]
    },
    {
     "name": "stdout",
     "output_type": "stream",
     "text": [
      "Failed senator Rick Scott with exception Invalid comparison between dtype=datetime64[ns, America/New_York] and Timestamp\n",
      "Starting John Cornyn\n",
      "Failed senator John Cornyn with exception Invalid comparison between dtype=datetime64[ns, America/New_York] and Timestamp\n",
      "Starting Kelly Loeffler\n",
      "Failed senator Kelly Loeffler with exception Invalid comparison between dtype=datetime64[ns, America/New_York] and Timestamp\n",
      "Starting Rafael E Cruz\n",
      "Failed senator Rafael E Cruz with exception Invalid comparison between dtype=datetime64[ns, America/New_York] and Timestamp\n"
     ]
    }
   ],
   "execution_count": 11
  },
  {
   "cell_type": "markdown",
   "metadata": {},
   "source": [
    "We look at the results to see the senators that outperformed the market."
   ]
  },
  {
   "cell_type": "code",
   "metadata": {
    "collapsed": false,
    "ExecuteTime": {
     "end_time": "2024-04-27T20:05:54.934922Z",
     "start_time": "2024-04-27T20:05:54.926600Z"
    }
   },
   "source": [
    "def plot_senator_growth(growth):\n",
    "    \"\"\" Plot the senator's portfolio growth against the S&P 500. \"\"\"\n",
    "    plt.plot_date(growth['date'], growth['cumulative_growth'], '-')\n",
    "    download_for_ticker('SPY')\n",
    "    spy = load_for_ticker('SPY')\n",
    "    spy = spy[(spy['date'] >= min(growth['date']))\n",
    "              & (spy['date'] <= max(growth['date']))]\n",
    "    spy_prices = spy['price']\n",
    "    spy_growth = np.cumprod(np.diff(spy_prices) / spy_prices[1:] + 1)\n",
    "    dates = spy['date'].iloc[1:]\n",
    "    plt.plot_date(dates, spy_growth, '-')\n",
    "    plt.show()\n",
    "    print('Earliest date: {}'.format(min(growth['date'])))\n",
    "    print('Latest date: {}'.format(max(growth['date'])))\n",
    "    print('Market return: {}'.format(\n",
    "        spy_prices.iloc[-1] / spy_prices.iloc[0]))\n",
    "    senator_growth = growth['cumulative_growth']\n",
    "    print('Senator return: {}'.format(\n",
    "        senator_growth.iloc[-1] / senator_growth.iloc[0]))"
   ],
   "outputs": [],
   "execution_count": 12
  },
  {
   "cell_type": "code",
   "metadata": {
    "collapsed": false,
    "ExecuteTime": {
     "end_time": "2024-04-27T20:05:55.496620Z",
     "start_time": "2024-04-27T20:05:54.943315Z"
    }
   },
   "source": [
    "returns = pd.DataFrame(senator_returns)\n",
    "returns = returns[(returns['tx_total_return'] > returns['tx_cagr'])\n",
    "                  & (returns['tx_cagr'] > 0)]\n",
    "returns.sort_values('tx_cagr')"
   ],
   "outputs": [
    {
     "ename": "KeyError",
     "evalue": "'tx_total_return'",
     "output_type": "error",
     "traceback": [
      "\u001B[0;31m---------------------------------------------------------------------------\u001B[0m",
      "\u001B[0;31mKeyError\u001B[0m                                  Traceback (most recent call last)",
      "Cell \u001B[0;32mIn[13], line 2\u001B[0m\n\u001B[1;32m      1\u001B[0m returns \u001B[38;5;241m=\u001B[39m pd\u001B[38;5;241m.\u001B[39mDataFrame(senator_returns)\n\u001B[0;32m----> 2\u001B[0m returns \u001B[38;5;241m=\u001B[39m returns[(\u001B[43mreturns\u001B[49m\u001B[43m[\u001B[49m\u001B[38;5;124;43m'\u001B[39;49m\u001B[38;5;124;43mtx_total_return\u001B[39;49m\u001B[38;5;124;43m'\u001B[39;49m\u001B[43m]\u001B[49m \u001B[38;5;241m>\u001B[39m returns[\u001B[38;5;124m'\u001B[39m\u001B[38;5;124mtx_cagr\u001B[39m\u001B[38;5;124m'\u001B[39m])\n\u001B[1;32m      3\u001B[0m                   \u001B[38;5;241m&\u001B[39m (returns[\u001B[38;5;124m'\u001B[39m\u001B[38;5;124mtx_cagr\u001B[39m\u001B[38;5;124m'\u001B[39m] \u001B[38;5;241m>\u001B[39m \u001B[38;5;241m0\u001B[39m)]\n\u001B[1;32m      4\u001B[0m returns\u001B[38;5;241m.\u001B[39msort_values(\u001B[38;5;124m'\u001B[39m\u001B[38;5;124mtx_cagr\u001B[39m\u001B[38;5;124m'\u001B[39m)\n",
      "File \u001B[0;32m~/.local/share/virtualenvs/senator-filings-v3-GSDPN/lib/python3.12/site-packages/pandas/core/frame.py:4102\u001B[0m, in \u001B[0;36mDataFrame.__getitem__\u001B[0;34m(self, key)\u001B[0m\n\u001B[1;32m   4100\u001B[0m \u001B[38;5;28;01mif\u001B[39;00m \u001B[38;5;28mself\u001B[39m\u001B[38;5;241m.\u001B[39mcolumns\u001B[38;5;241m.\u001B[39mnlevels \u001B[38;5;241m>\u001B[39m \u001B[38;5;241m1\u001B[39m:\n\u001B[1;32m   4101\u001B[0m     \u001B[38;5;28;01mreturn\u001B[39;00m \u001B[38;5;28mself\u001B[39m\u001B[38;5;241m.\u001B[39m_getitem_multilevel(key)\n\u001B[0;32m-> 4102\u001B[0m indexer \u001B[38;5;241m=\u001B[39m \u001B[38;5;28;43mself\u001B[39;49m\u001B[38;5;241;43m.\u001B[39;49m\u001B[43mcolumns\u001B[49m\u001B[38;5;241;43m.\u001B[39;49m\u001B[43mget_loc\u001B[49m\u001B[43m(\u001B[49m\u001B[43mkey\u001B[49m\u001B[43m)\u001B[49m\n\u001B[1;32m   4103\u001B[0m \u001B[38;5;28;01mif\u001B[39;00m is_integer(indexer):\n\u001B[1;32m   4104\u001B[0m     indexer \u001B[38;5;241m=\u001B[39m [indexer]\n",
      "File \u001B[0;32m~/.local/share/virtualenvs/senator-filings-v3-GSDPN/lib/python3.12/site-packages/pandas/core/indexes/range.py:417\u001B[0m, in \u001B[0;36mRangeIndex.get_loc\u001B[0;34m(self, key)\u001B[0m\n\u001B[1;32m    415\u001B[0m         \u001B[38;5;28;01mraise\u001B[39;00m \u001B[38;5;167;01mKeyError\u001B[39;00m(key) \u001B[38;5;28;01mfrom\u001B[39;00m \u001B[38;5;21;01merr\u001B[39;00m\n\u001B[1;32m    416\u001B[0m \u001B[38;5;28;01mif\u001B[39;00m \u001B[38;5;28misinstance\u001B[39m(key, Hashable):\n\u001B[0;32m--> 417\u001B[0m     \u001B[38;5;28;01mraise\u001B[39;00m \u001B[38;5;167;01mKeyError\u001B[39;00m(key)\n\u001B[1;32m    418\u001B[0m \u001B[38;5;28mself\u001B[39m\u001B[38;5;241m.\u001B[39m_check_indexing_error(key)\n\u001B[1;32m    419\u001B[0m \u001B[38;5;28;01mraise\u001B[39;00m \u001B[38;5;167;01mKeyError\u001B[39;00m(key)\n",
      "\u001B[0;31mKeyError\u001B[0m: 'tx_total_return'"
     ]
    }
   ],
   "execution_count": 13
  },
  {
   "cell_type": "code",
   "metadata": {
    "collapsed": false
   },
   "source": [
    "plot_senator_growth(senator_tx_growth['Angus S King, Jr.'])"
   ],
   "outputs": [],
   "execution_count": null
  },
  {
   "cell_type": "markdown",
   "metadata": {},
   "source": [
    "## About this notebook\n",
    "\n",
    "Author: Neel Somani, Software Engineer\n",
    "\n",
    "Email: neel@berkeley.edu\n",
    "\n",
    "Website: https://www.ocf.berkeley.edu/~neel/\n",
    "\n",
    "Updated On: 2020-05-23"
   ]
  }
 ],
 "metadata": {
  "kernelspec": {
   "display_name": "Python 3",
   "language": "python",
   "name": "python3"
  },
  "language_info": {
   "codemirror_mode": {
    "name": "ipython",
    "version": 3
   },
   "file_extension": ".py",
   "mimetype": "text/x-python",
   "name": "python",
   "nbconvert_exporter": "python",
   "pygments_lexer": "ipython3",
   "version": "3.6.0"
  }
 },
 "nbformat": 4,
 "nbformat_minor": 2
}
